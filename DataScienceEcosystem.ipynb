{
 "cells": [
  {
   "cell_type": "markdown",
   "id": "62a323ca-2be9-43ff-8491-1f03ba0b173b",
   "metadata": {},
   "source": [
    "# Data Science Tools and Ecosystem"
   ]
  },
  {
   "cell_type": "markdown",
   "id": "84965502-ddbc-4d18-b7d6-0e39db0b9449",
   "metadata": {},
   "source": [
    "In this notebook, Data Science Tools and Ecosystem are summarized."
   ]
  },
  {
   "cell_type": "markdown",
   "id": "91d3d863-42fe-4d21-936b-6f1743486028",
   "metadata": {},
   "source": [
    "__Objectives:__\n",
    "- List of popular programming languages for Data Science\n",
    "- List of libraries for Data Science\n",
    "- Table containing tools used for Data Science\n",
    "- Arithmetic expressions"
   ]
  },
  {
   "cell_type": "markdown",
   "id": "897fd368-5629-4107-a21a-ecaa61601cfb",
   "metadata": {},
   "source": [
    "Some of the popular languages that Data Scientists use are:\n",
    "1. Python\n",
    "2. R\n",
    "3. Julia\n",
    "4. C++"
   ]
  },
  {
   "cell_type": "markdown",
   "id": "508a3534-a65d-477a-92e3-c0d7d7615430",
   "metadata": {},
   "source": [
    "Some of the commonly used libraries used by Data Scientists include:\n",
    "1. Tensor Flow\n",
    "2. Pandas\n",
    "3. Numpy\n",
    "4. Matplotlib"
   ]
  },
  {
   "cell_type": "markdown",
   "id": "d2275e17-400f-4301-a041-ca53198a2702",
   "metadata": {},
   "source": [
    "| Data Science Tools |\n",
    "|----|\n",
    "| Apache Hadoop |\n",
    "| Apache Spark |\n",
    "| R Studio |"
   ]
  },
  {
   "cell_type": "markdown",
   "id": "f3e8ecd7-2a0e-41a6-a746-4242c38a8d91",
   "metadata": {},
   "source": [
    "### Below are a few examples of evaluating arithmetic expressions in Python"
   ]
  },
  {
   "cell_type": "code",
   "execution_count": 3,
   "id": "b71d21ad-053a-4142-a872-99c9b1d3ff95",
   "metadata": {},
   "outputs": [
    {
     "data": {
      "text/plain": [
       "17"
      ]
     },
     "execution_count": 3,
     "metadata": {},
     "output_type": "execute_result"
    }
   ],
   "source": [
    "# This a simple arithmetic expression to mutiply then add integers\n",
    "(3*4)+5"
   ]
  },
  {
   "cell_type": "code",
   "execution_count": 4,
   "id": "4534106e-8b38-4f23-a3e5-c701b44bf133",
   "metadata": {},
   "outputs": [
    {
     "data": {
      "text/plain": [
       "3.3333333333333335"
      ]
     },
     "execution_count": 4,
     "metadata": {},
     "output_type": "execute_result"
    }
   ],
   "source": [
    "# This will convert 200 minutes to hours by diving by 60\n",
    "200/60"
   ]
  },
  {
   "cell_type": "markdown",
   "id": "9eae7607-2ce8-49e2-a52b-cd8fe4ab2f1c",
   "metadata": {},
   "source": [
    "## Author\n",
    "Iaroslav Gafiatulin"
   ]
  }
 ],
 "metadata": {
  "kernelspec": {
   "display_name": "Python 3 (ipykernel)",
   "language": "python",
   "name": "python3"
  },
  "language_info": {
   "codemirror_mode": {
    "name": "ipython",
    "version": 3
   },
   "file_extension": ".py",
   "mimetype": "text/x-python",
   "name": "python",
   "nbconvert_exporter": "python",
   "pygments_lexer": "ipython3",
   "version": "3.11.7"
  }
 },
 "nbformat": 4,
 "nbformat_minor": 5
}
